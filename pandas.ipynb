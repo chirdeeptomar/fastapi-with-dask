{
 "metadata": {
  "language_info": {
   "codemirror_mode": {
    "name": "ipython",
    "version": 3
   },
   "file_extension": ".py",
   "mimetype": "text/x-python",
   "name": "python",
   "nbconvert_exporter": "python",
   "pygments_lexer": "ipython3",
   "version": "3.8.5"
  },
  "orig_nbformat": 2,
  "kernelspec": {
   "name": "pythonjvsc74a57bd0f1a340c6fdef90f106f55116fa6ceae04811f308c0e3c9c5ef617f9f0c0026ec",
   "display_name": "Python 3.8.5  ('.env': venv)"
  },
  "metadata": {
   "interpreter": {
    "hash": "f1a340c6fdef90f106f55116fa6ceae04811f308c0e3c9c5ef617f9f0c0026ec"
   }
  }
 },
 "nbformat": 4,
 "nbformat_minor": 2,
 "cells": [
  {
   "cell_type": "code",
   "execution_count": 2,
   "metadata": {},
   "outputs": [],
   "source": [
    "## python imports\n",
    "import pandas as pd"
   ]
  },
  {
   "cell_type": "code",
   "execution_count": 3,
   "metadata": {},
   "outputs": [],
   "source": [
    "path= 'data/userdata1.parquet'\n",
    "columns = ['id', 'first_name', 'last_name', 'country',]"
   ]
  },
  {
   "cell_type": "code",
   "execution_count": 4,
   "metadata": {},
   "outputs": [],
   "source": [
    "df = pd.read_parquet(path, columns=columns, engine='pyarrow')"
   ]
  },
  {
   "cell_type": "code",
   "execution_count": 5,
   "metadata": {},
   "outputs": [
    {
     "output_type": "stream",
     "name": "stdout",
     "text": [
      "CPU times: user 1e+03 ns, sys: 1e+03 ns, total: 2 µs\nWall time: 4.53 µs\n"
     ]
    },
    {
     "output_type": "execute_result",
     "data": {
      "text/plain": [
       "       id first_name last_name       country\n",
       "0       1     Amanda    Jordan     Indonesia\n",
       "1       2     Albert   Freeman        Canada\n",
       "2       3     Evelyn    Morgan        Russia\n",
       "3       4     Denise     Riley         China\n",
       "4       5     Carlos     Burns  South Africa\n",
       "..    ...        ...       ...           ...\n",
       "995   996     Dennis    Harris        Greece\n",
       "996   997     Gloria  Hamilton         China\n",
       "997   998      Nancy    Morris        Sweden\n",
       "998   999      Annie   Daniels         China\n",
       "999  1000      Julie     Meyer         China\n",
       "\n",
       "[1000 rows x 4 columns]"
      ],
      "text/html": "<div>\n<style scoped>\n    .dataframe tbody tr th:only-of-type {\n        vertical-align: middle;\n    }\n\n    .dataframe tbody tr th {\n        vertical-align: top;\n    }\n\n    .dataframe thead th {\n        text-align: right;\n    }\n</style>\n<table border=\"1\" class=\"dataframe\">\n  <thead>\n    <tr style=\"text-align: right;\">\n      <th></th>\n      <th>id</th>\n      <th>first_name</th>\n      <th>last_name</th>\n      <th>country</th>\n    </tr>\n  </thead>\n  <tbody>\n    <tr>\n      <th>0</th>\n      <td>1</td>\n      <td>Amanda</td>\n      <td>Jordan</td>\n      <td>Indonesia</td>\n    </tr>\n    <tr>\n      <th>1</th>\n      <td>2</td>\n      <td>Albert</td>\n      <td>Freeman</td>\n      <td>Canada</td>\n    </tr>\n    <tr>\n      <th>2</th>\n      <td>3</td>\n      <td>Evelyn</td>\n      <td>Morgan</td>\n      <td>Russia</td>\n    </tr>\n    <tr>\n      <th>3</th>\n      <td>4</td>\n      <td>Denise</td>\n      <td>Riley</td>\n      <td>China</td>\n    </tr>\n    <tr>\n      <th>4</th>\n      <td>5</td>\n      <td>Carlos</td>\n      <td>Burns</td>\n      <td>South Africa</td>\n    </tr>\n    <tr>\n      <th>...</th>\n      <td>...</td>\n      <td>...</td>\n      <td>...</td>\n      <td>...</td>\n    </tr>\n    <tr>\n      <th>995</th>\n      <td>996</td>\n      <td>Dennis</td>\n      <td>Harris</td>\n      <td>Greece</td>\n    </tr>\n    <tr>\n      <th>996</th>\n      <td>997</td>\n      <td>Gloria</td>\n      <td>Hamilton</td>\n      <td>China</td>\n    </tr>\n    <tr>\n      <th>997</th>\n      <td>998</td>\n      <td>Nancy</td>\n      <td>Morris</td>\n      <td>Sweden</td>\n    </tr>\n    <tr>\n      <th>998</th>\n      <td>999</td>\n      <td>Annie</td>\n      <td>Daniels</td>\n      <td>China</td>\n    </tr>\n    <tr>\n      <th>999</th>\n      <td>1000</td>\n      <td>Julie</td>\n      <td>Meyer</td>\n      <td>China</td>\n    </tr>\n  </tbody>\n</table>\n<p>1000 rows × 4 columns</p>\n</div>"
     },
     "metadata": {},
     "execution_count": 5
    }
   ],
   "source": [
    "%%time\n",
    "df"
   ]
  }
 ]
}