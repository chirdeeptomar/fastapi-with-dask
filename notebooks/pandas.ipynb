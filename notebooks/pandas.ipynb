{
 "cells": [
  {
   "cell_type": "code",
   "execution_count": 16,
   "metadata": {},
   "outputs": [],
   "source": [
    "## python imports\n",
    "import pandas as pd"
   ]
  },
  {
   "cell_type": "code",
   "execution_count": 17,
   "metadata": {},
   "outputs": [],
   "source": [
    "path= '../data/userdata1.parquet'\n",
    "columns = ['id', 'first_name', 'last_name', 'country',]"
   ]
  },
  {
   "cell_type": "code",
   "execution_count": 18,
   "metadata": {},
   "outputs": [],
   "source": [
    "df = pd.read_parquet(path, columns=columns, engine='pyarrow')"
   ]
  },
  {
   "cell_type": "code",
   "execution_count": 19,
   "metadata": {},
   "outputs": [
    {
     "output_type": "stream",
     "name": "stdout",
     "text": [
      "<class 'pandas.core.frame.DataFrame'>\nRangeIndex: 1000 entries, 0 to 999\nData columns (total 4 columns):\n #   Column      Non-Null Count  Dtype \n---  ------      --------------  ----- \n 0   id          1000 non-null   int32 \n 1   first_name  1000 non-null   object\n 2   last_name   1000 non-null   object\n 3   country     1000 non-null   object\ndtypes: int32(1), object(3)\nmemory usage: 27.5+ KB\nCPU times: user 13.1 ms, sys: 2.64 ms, total: 15.8 ms\nWall time: 12.7 ms\n"
     ]
    }
   ],
   "source": [
    "%%time\n",
    "df.info()"
   ]
  },
  {
   "cell_type": "code",
   "execution_count": 20,
   "metadata": {},
   "outputs": [
    {
     "output_type": "execute_result",
     "data": {
      "text/plain": [
       "(1000, 4)"
      ]
     },
     "metadata": {},
     "execution_count": 20
    }
   ],
   "source": [
    "df.shape"
   ]
  },
  {
   "cell_type": "code",
   "execution_count": 21,
   "metadata": {},
   "outputs": [
    {
     "output_type": "execute_result",
     "data": {
      "text/plain": [
       "   id first_name last_name       country\n",
       "0   1     Amanda    Jordan     Indonesia\n",
       "1   2     Albert   Freeman        Canada\n",
       "2   3     Evelyn    Morgan        Russia\n",
       "3   4     Denise     Riley         China\n",
       "4   5     Carlos     Burns  South Africa"
      ],
      "text/html": "<div>\n<style scoped>\n    .dataframe tbody tr th:only-of-type {\n        vertical-align: middle;\n    }\n\n    .dataframe tbody tr th {\n        vertical-align: top;\n    }\n\n    .dataframe thead th {\n        text-align: right;\n    }\n</style>\n<table border=\"1\" class=\"dataframe\">\n  <thead>\n    <tr style=\"text-align: right;\">\n      <th></th>\n      <th>id</th>\n      <th>first_name</th>\n      <th>last_name</th>\n      <th>country</th>\n    </tr>\n  </thead>\n  <tbody>\n    <tr>\n      <th>0</th>\n      <td>1</td>\n      <td>Amanda</td>\n      <td>Jordan</td>\n      <td>Indonesia</td>\n    </tr>\n    <tr>\n      <th>1</th>\n      <td>2</td>\n      <td>Albert</td>\n      <td>Freeman</td>\n      <td>Canada</td>\n    </tr>\n    <tr>\n      <th>2</th>\n      <td>3</td>\n      <td>Evelyn</td>\n      <td>Morgan</td>\n      <td>Russia</td>\n    </tr>\n    <tr>\n      <th>3</th>\n      <td>4</td>\n      <td>Denise</td>\n      <td>Riley</td>\n      <td>China</td>\n    </tr>\n    <tr>\n      <th>4</th>\n      <td>5</td>\n      <td>Carlos</td>\n      <td>Burns</td>\n      <td>South Africa</td>\n    </tr>\n  </tbody>\n</table>\n</div>"
     },
     "metadata": {},
     "execution_count": 21
    }
   ],
   "source": [
    "df.head()"
   ]
  },
  {
   "cell_type": "code",
   "execution_count": 22,
   "metadata": {},
   "outputs": [
    {
     "output_type": "execute_result",
     "data": {
      "text/plain": [
       "Index(['id', 'first_name', 'last_name', 'country'], dtype='object')"
      ]
     },
     "metadata": {},
     "execution_count": 22
    }
   ],
   "source": [
    "df.columns"
   ]
  },
  {
   "cell_type": "code",
   "execution_count": 23,
   "metadata": {},
   "outputs": [
    {
     "output_type": "execute_result",
     "data": {
      "text/plain": [
       "   id first_name last_name                 country\n",
       "0   1     Amanda    Jordan               Indonesia\n",
       "1   2     Albert   Freeman                  Canada\n",
       "2   3     Evelyn    Morgan                  Russia\n",
       "3   4     Denise     Riley                   China\n",
       "4   5     Carlos     Burns            South Africa\n",
       "5   6    Kathryn     White               Indonesia\n",
       "6   7     Samuel    Holmes                Portugal\n",
       "7   8      Harry    Howell  Bosnia and Herzegovina\n",
       "8   9       Jose    Foster             South Korea"
      ],
      "text/html": "<div>\n<style scoped>\n    .dataframe tbody tr th:only-of-type {\n        vertical-align: middle;\n    }\n\n    .dataframe tbody tr th {\n        vertical-align: top;\n    }\n\n    .dataframe thead th {\n        text-align: right;\n    }\n</style>\n<table border=\"1\" class=\"dataframe\">\n  <thead>\n    <tr style=\"text-align: right;\">\n      <th></th>\n      <th>id</th>\n      <th>first_name</th>\n      <th>last_name</th>\n      <th>country</th>\n    </tr>\n  </thead>\n  <tbody>\n    <tr>\n      <th>0</th>\n      <td>1</td>\n      <td>Amanda</td>\n      <td>Jordan</td>\n      <td>Indonesia</td>\n    </tr>\n    <tr>\n      <th>1</th>\n      <td>2</td>\n      <td>Albert</td>\n      <td>Freeman</td>\n      <td>Canada</td>\n    </tr>\n    <tr>\n      <th>2</th>\n      <td>3</td>\n      <td>Evelyn</td>\n      <td>Morgan</td>\n      <td>Russia</td>\n    </tr>\n    <tr>\n      <th>3</th>\n      <td>4</td>\n      <td>Denise</td>\n      <td>Riley</td>\n      <td>China</td>\n    </tr>\n    <tr>\n      <th>4</th>\n      <td>5</td>\n      <td>Carlos</td>\n      <td>Burns</td>\n      <td>South Africa</td>\n    </tr>\n    <tr>\n      <th>5</th>\n      <td>6</td>\n      <td>Kathryn</td>\n      <td>White</td>\n      <td>Indonesia</td>\n    </tr>\n    <tr>\n      <th>6</th>\n      <td>7</td>\n      <td>Samuel</td>\n      <td>Holmes</td>\n      <td>Portugal</td>\n    </tr>\n    <tr>\n      <th>7</th>\n      <td>8</td>\n      <td>Harry</td>\n      <td>Howell</td>\n      <td>Bosnia and Herzegovina</td>\n    </tr>\n    <tr>\n      <th>8</th>\n      <td>9</td>\n      <td>Jose</td>\n      <td>Foster</td>\n      <td>South Korea</td>\n    </tr>\n  </tbody>\n</table>\n</div>"
     },
     "metadata": {},
     "execution_count": 23
    }
   ],
   "source": [
    "df[:9]"
   ]
  },
  {
   "cell_type": "code",
   "execution_count": 24,
   "metadata": {},
   "outputs": [
    {
     "output_type": "execute_result",
     "data": {
      "text/plain": [
       "RangeIndex(start=0, stop=1000, step=1)"
      ]
     },
     "metadata": {},
     "execution_count": 24
    }
   ],
   "source": [
    "df.index"
   ]
  },
  {
   "cell_type": "code",
   "execution_count": 25,
   "metadata": {},
   "outputs": [
    {
     "output_type": "execute_result",
     "data": {
      "text/plain": [
       "<bound method DataFrame.to_parquet of        id first_name last_name       country\n",
       "0       1     Amanda    Jordan     Indonesia\n",
       "1       2     Albert   Freeman        Canada\n",
       "2       3     Evelyn    Morgan        Russia\n",
       "3       4     Denise     Riley         China\n",
       "4       5     Carlos     Burns  South Africa\n",
       "..    ...        ...       ...           ...\n",
       "995   996     Dennis    Harris        Greece\n",
       "996   997     Gloria  Hamilton         China\n",
       "997   998      Nancy    Morris        Sweden\n",
       "998   999      Annie   Daniels         China\n",
       "999  1000      Julie     Meyer         China\n",
       "\n",
       "[1000 rows x 4 columns]>"
      ]
     },
     "metadata": {},
     "execution_count": 25
    }
   ],
   "source": [
    "df.to_parquet"
   ]
  },
  {
   "cell_type": "markdown",
   "metadata": {},
   "source": [
    "df.info()"
   ]
  },
  {
   "cell_type": "code",
   "execution_count": 26,
   "metadata": {},
   "outputs": [
    {
     "output_type": "execute_result",
     "data": {
      "text/plain": [
       "Index(['id', 'first_name', 'last_name', 'country'], dtype='object')"
      ]
     },
     "metadata": {},
     "execution_count": 26
    }
   ],
   "source": [
    "df.columns"
   ]
  },
  {
   "cell_type": "code",
   "execution_count": 27,
   "metadata": {},
   "outputs": [
    {
     "output_type": "execute_result",
     "data": {
      "text/plain": [
       "id             int32\n",
       "first_name    object\n",
       "last_name     object\n",
       "country       object\n",
       "dtype: object"
      ]
     },
     "metadata": {},
     "execution_count": 27
    }
   ],
   "source": [
    "df.dtypes"
   ]
  },
  {
   "cell_type": "code",
   "execution_count": 28,
   "metadata": {},
   "outputs": [],
   "source": [
    "first_names = df[['first_name', 'id']]"
   ]
  },
  {
   "cell_type": "code",
   "execution_count": 29,
   "metadata": {},
   "outputs": [
    {
     "output_type": "execute_result",
     "data": {
      "text/plain": [
       "    first_name    id\n",
       "0       Amanda     1\n",
       "1       Albert     2\n",
       "2       Evelyn     3\n",
       "3       Denise     4\n",
       "4       Carlos     5\n",
       "..         ...   ...\n",
       "995     Dennis   996\n",
       "996     Gloria   997\n",
       "997      Nancy   998\n",
       "998      Annie   999\n",
       "999      Julie  1000\n",
       "\n",
       "[1000 rows x 2 columns]"
      ],
      "text/html": "<div>\n<style scoped>\n    .dataframe tbody tr th:only-of-type {\n        vertical-align: middle;\n    }\n\n    .dataframe tbody tr th {\n        vertical-align: top;\n    }\n\n    .dataframe thead th {\n        text-align: right;\n    }\n</style>\n<table border=\"1\" class=\"dataframe\">\n  <thead>\n    <tr style=\"text-align: right;\">\n      <th></th>\n      <th>first_name</th>\n      <th>id</th>\n    </tr>\n  </thead>\n  <tbody>\n    <tr>\n      <th>0</th>\n      <td>Amanda</td>\n      <td>1</td>\n    </tr>\n    <tr>\n      <th>1</th>\n      <td>Albert</td>\n      <td>2</td>\n    </tr>\n    <tr>\n      <th>2</th>\n      <td>Evelyn</td>\n      <td>3</td>\n    </tr>\n    <tr>\n      <th>3</th>\n      <td>Denise</td>\n      <td>4</td>\n    </tr>\n    <tr>\n      <th>4</th>\n      <td>Carlos</td>\n      <td>5</td>\n    </tr>\n    <tr>\n      <th>...</th>\n      <td>...</td>\n      <td>...</td>\n    </tr>\n    <tr>\n      <th>995</th>\n      <td>Dennis</td>\n      <td>996</td>\n    </tr>\n    <tr>\n      <th>996</th>\n      <td>Gloria</td>\n      <td>997</td>\n    </tr>\n    <tr>\n      <th>997</th>\n      <td>Nancy</td>\n      <td>998</td>\n    </tr>\n    <tr>\n      <th>998</th>\n      <td>Annie</td>\n      <td>999</td>\n    </tr>\n    <tr>\n      <th>999</th>\n      <td>Julie</td>\n      <td>1000</td>\n    </tr>\n  </tbody>\n</table>\n<p>1000 rows × 2 columns</p>\n</div>"
     },
     "metadata": {},
     "execution_count": 29
    }
   ],
   "source": [
    "first_names"
   ]
  },
  {
   "cell_type": "code",
   "execution_count": 30,
   "metadata": {},
   "outputs": [
    {
     "output_type": "execute_result",
     "data": {
      "text/plain": [
       "id                    1\n",
       "first_name       Amanda\n",
       "last_name        Jordan\n",
       "country       Indonesia\n",
       "Name: 0, dtype: object"
      ]
     },
     "metadata": {},
     "execution_count": 30
    }
   ],
   "source": [
    "df.loc[0]"
   ]
  },
  {
   "cell_type": "code",
   "execution_count": null,
   "metadata": {},
   "outputs": [],
   "source": []
  }
 ],
 "metadata": {
  "interpreter": {
   "hash": "f1a340c6fdef90f106f55116fa6ceae04811f308c0e3c9c5ef617f9f0c0026ec"
  },
  "kernelspec": {
   "name": "python3",
   "display_name": "Python 3.8.5  ('.env': venv)"
  },
  "language_info": {
   "codemirror_mode": {
    "name": "ipython",
    "version": 3
   },
   "file_extension": ".py",
   "mimetype": "text/x-python",
   "name": "python",
   "nbconvert_exporter": "python",
   "pygments_lexer": "ipython3",
   "version": "3.8.5"
  },
  "metadata": {
   "interpreter": {
    "hash": "f1a340c6fdef90f106f55116fa6ceae04811f308c0e3c9c5ef617f9f0c0026ec"
   }
  }
 },
 "nbformat": 4,
 "nbformat_minor": 4
}