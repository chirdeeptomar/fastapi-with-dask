{
 "metadata": {
  "language_info": {
   "codemirror_mode": {
    "name": "ipython",
    "version": 3
   },
   "file_extension": ".py",
   "mimetype": "text/x-python",
   "name": "python",
   "nbconvert_exporter": "python",
   "pygments_lexer": "ipython3",
   "version": "3.8.5"
  },
  "orig_nbformat": 2,
  "kernelspec": {
   "name": "pythonjvsc74a57bd0f1a340c6fdef90f106f55116fa6ceae04811f308c0e3c9c5ef617f9f0c0026ec",
   "display_name": "Python 3.8.5  ('.env': venv)"
  },
  "metadata": {
   "interpreter": {
    "hash": "f1a340c6fdef90f106f55116fa6ceae04811f308c0e3c9c5ef617f9f0c0026ec"
   }
  }
 },
 "nbformat": 4,
 "nbformat_minor": 2,
 "cells": [
  {
   "cell_type": "code",
   "execution_count": 2,
   "metadata": {},
   "outputs": [],
   "source": [
    "import dask.dataframe as dd\n",
    "from dask.distributed import Client"
   ]
  },
  {
   "cell_type": "code",
   "execution_count": 3,
   "metadata": {},
   "outputs": [],
   "source": [
    "client = Client('localhost:8786')"
   ]
  },
  {
   "cell_type": "code",
   "execution_count": 4,
   "metadata": {},
   "outputs": [],
   "source": [
    "path= 'data/*.parquet'\n",
    "predicates=[('country','==', 'Malaysia'),]\n",
    "columns = ['id', 'first_name', 'last_name', 'country',]"
   ]
  },
  {
   "cell_type": "code",
   "execution_count": 5,
   "metadata": {},
   "outputs": [],
   "source": [
    "df = dd.read_parquet(path, engine=\"pyarrow-dataset\", columns=columns, filters=predicates)"
   ]
  },
  {
   "cell_type": "code",
   "execution_count": 8,
   "metadata": {},
   "outputs": [
    {
     "output_type": "stream",
     "name": "stdout",
     "text": [
      "CPU times: user 13.5 ms, sys: 0 ns, total: 13.5 ms\nWall time: 37.7 ms\n"
     ]
    },
    {
     "output_type": "execute_result",
     "data": {
      "text/plain": [
       "    id   first_name last_name   country\n",
       "0  118        Randy    Kelley  Malaysia\n",
       "1  140  Christopher    Turner  Malaysia\n",
       "2  513        Wayne      Ward  Malaysia\n",
       "3  769        Wayne    Bailey  Malaysia\n",
       "4  778        Julia    Taylor  Malaysia\n",
       "5  829       Samuel    Willis  Malaysia\n",
       "6  860       Louise       Cox  Malaysia\n",
       "7  898       Ronald   Mendoza  Malaysia\n",
       "0   57     Virginia      Bell  Malaysia\n",
       "1  298       Johnny     Kelly  Malaysia\n",
       "2  344      Stephen    Powell  Malaysia\n",
       "3  480      Charles     Mccoy  Malaysia\n",
       "4  997        Helen    Fields  Malaysia\n",
       "0  128        Wayne       Kim  Malaysia\n",
       "1  275       Dennis    Hughes  Malaysia\n",
       "2  478    Christina   Hawkins  Malaysia\n",
       "3  705       Steven   Ramirez  Malaysia\n",
       "4  787       Thomas    Chavez  Malaysia\n",
       "5  918        Jimmy    Duncan  Malaysia\n",
       "6  990      Rebecca      Diaz  Malaysia\n",
       "7  993       Sharon      Ward  Malaysia\n",
       "8  996      Deborah    Chavez  Malaysia\n",
       "0  667         Lois   Freeman  Malaysia\n",
       "0  104        Henry   Gardner  Malaysia\n",
       "1  445       Louise    Torres  Malaysia\n",
       "2  813       Walter      Sims  Malaysia\n",
       "3  823                 Carter  Malaysia\n",
       "4  928       Gloria    Nguyen  Malaysia"
      ],
      "text/html": "<div>\n<style scoped>\n    .dataframe tbody tr th:only-of-type {\n        vertical-align: middle;\n    }\n\n    .dataframe tbody tr th {\n        vertical-align: top;\n    }\n\n    .dataframe thead th {\n        text-align: right;\n    }\n</style>\n<table border=\"1\" class=\"dataframe\">\n  <thead>\n    <tr style=\"text-align: right;\">\n      <th></th>\n      <th>id</th>\n      <th>first_name</th>\n      <th>last_name</th>\n      <th>country</th>\n    </tr>\n  </thead>\n  <tbody>\n    <tr>\n      <th>0</th>\n      <td>118</td>\n      <td>Randy</td>\n      <td>Kelley</td>\n      <td>Malaysia</td>\n    </tr>\n    <tr>\n      <th>1</th>\n      <td>140</td>\n      <td>Christopher</td>\n      <td>Turner</td>\n      <td>Malaysia</td>\n    </tr>\n    <tr>\n      <th>2</th>\n      <td>513</td>\n      <td>Wayne</td>\n      <td>Ward</td>\n      <td>Malaysia</td>\n    </tr>\n    <tr>\n      <th>3</th>\n      <td>769</td>\n      <td>Wayne</td>\n      <td>Bailey</td>\n      <td>Malaysia</td>\n    </tr>\n    <tr>\n      <th>4</th>\n      <td>778</td>\n      <td>Julia</td>\n      <td>Taylor</td>\n      <td>Malaysia</td>\n    </tr>\n    <tr>\n      <th>5</th>\n      <td>829</td>\n      <td>Samuel</td>\n      <td>Willis</td>\n      <td>Malaysia</td>\n    </tr>\n    <tr>\n      <th>6</th>\n      <td>860</td>\n      <td>Louise</td>\n      <td>Cox</td>\n      <td>Malaysia</td>\n    </tr>\n    <tr>\n      <th>7</th>\n      <td>898</td>\n      <td>Ronald</td>\n      <td>Mendoza</td>\n      <td>Malaysia</td>\n    </tr>\n    <tr>\n      <th>0</th>\n      <td>57</td>\n      <td>Virginia</td>\n      <td>Bell</td>\n      <td>Malaysia</td>\n    </tr>\n    <tr>\n      <th>1</th>\n      <td>298</td>\n      <td>Johnny</td>\n      <td>Kelly</td>\n      <td>Malaysia</td>\n    </tr>\n    <tr>\n      <th>2</th>\n      <td>344</td>\n      <td>Stephen</td>\n      <td>Powell</td>\n      <td>Malaysia</td>\n    </tr>\n    <tr>\n      <th>3</th>\n      <td>480</td>\n      <td>Charles</td>\n      <td>Mccoy</td>\n      <td>Malaysia</td>\n    </tr>\n    <tr>\n      <th>4</th>\n      <td>997</td>\n      <td>Helen</td>\n      <td>Fields</td>\n      <td>Malaysia</td>\n    </tr>\n    <tr>\n      <th>0</th>\n      <td>128</td>\n      <td>Wayne</td>\n      <td>Kim</td>\n      <td>Malaysia</td>\n    </tr>\n    <tr>\n      <th>1</th>\n      <td>275</td>\n      <td>Dennis</td>\n      <td>Hughes</td>\n      <td>Malaysia</td>\n    </tr>\n    <tr>\n      <th>2</th>\n      <td>478</td>\n      <td>Christina</td>\n      <td>Hawkins</td>\n      <td>Malaysia</td>\n    </tr>\n    <tr>\n      <th>3</th>\n      <td>705</td>\n      <td>Steven</td>\n      <td>Ramirez</td>\n      <td>Malaysia</td>\n    </tr>\n    <tr>\n      <th>4</th>\n      <td>787</td>\n      <td>Thomas</td>\n      <td>Chavez</td>\n      <td>Malaysia</td>\n    </tr>\n    <tr>\n      <th>5</th>\n      <td>918</td>\n      <td>Jimmy</td>\n      <td>Duncan</td>\n      <td>Malaysia</td>\n    </tr>\n    <tr>\n      <th>6</th>\n      <td>990</td>\n      <td>Rebecca</td>\n      <td>Diaz</td>\n      <td>Malaysia</td>\n    </tr>\n    <tr>\n      <th>7</th>\n      <td>993</td>\n      <td>Sharon</td>\n      <td>Ward</td>\n      <td>Malaysia</td>\n    </tr>\n    <tr>\n      <th>8</th>\n      <td>996</td>\n      <td>Deborah</td>\n      <td>Chavez</td>\n      <td>Malaysia</td>\n    </tr>\n    <tr>\n      <th>0</th>\n      <td>667</td>\n      <td>Lois</td>\n      <td>Freeman</td>\n      <td>Malaysia</td>\n    </tr>\n    <tr>\n      <th>0</th>\n      <td>104</td>\n      <td>Henry</td>\n      <td>Gardner</td>\n      <td>Malaysia</td>\n    </tr>\n    <tr>\n      <th>1</th>\n      <td>445</td>\n      <td>Louise</td>\n      <td>Torres</td>\n      <td>Malaysia</td>\n    </tr>\n    <tr>\n      <th>2</th>\n      <td>813</td>\n      <td>Walter</td>\n      <td>Sims</td>\n      <td>Malaysia</td>\n    </tr>\n    <tr>\n      <th>3</th>\n      <td>823</td>\n      <td></td>\n      <td>Carter</td>\n      <td>Malaysia</td>\n    </tr>\n    <tr>\n      <th>4</th>\n      <td>928</td>\n      <td>Gloria</td>\n      <td>Nguyen</td>\n      <td>Malaysia</td>\n    </tr>\n  </tbody>\n</table>\n</div>"
     },
     "metadata": {},
     "execution_count": 8
    }
   ],
   "source": [
    "%%time\n",
    "df.compute()"
   ]
  },
  {
   "cell_type": "code",
   "execution_count": null,
   "metadata": {},
   "outputs": [],
   "source": []
  }
 ]
}